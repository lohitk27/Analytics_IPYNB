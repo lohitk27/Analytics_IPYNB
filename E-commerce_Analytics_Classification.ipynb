{
 "cells": [
  {
   "cell_type": "code",
   "execution_count": 1,
   "metadata": {},
   "outputs": [
    {
     "name": "stderr",
     "output_type": "stream",
     "text": [
      "C:\\Users\\lohitr\\AppData\\Local\\Continuum\\anaconda3\\lib\\site-packages\\sklearn\\ensemble\\weight_boosting.py:29: DeprecationWarning: numpy.core.umath_tests is an internal NumPy module and should not be imported. It will be removed in a future NumPy release.\n",
      "  from numpy.core.umath_tests import inner1d\n"
     ]
    }
   ],
   "source": [
    "import pandas as pd\n",
    "import numpy as np\n",
    "import scipy as sp\n",
    "import glob\n",
    "import ast\n",
    "import datetime\n",
    "import json\n",
    "import seaborn as sns\n",
    "from scipy import stats\n",
    "import matplotlib.pyplot as plt\n",
    "sns.set(style=\"whitegrid\")\n",
    "from sklearn.metrics import mean_squared_error as MSE\n",
    "from math import sqrt\n",
    "from sklearn.model_selection import cross_val_score\n",
    "from sklearn.preprocessing import LabelEncoder\n",
    "from sklearn.model_selection import StratifiedKFold\n",
    "from sklearn.preprocessing import StandardScaler\n",
    "from sklearn.pipeline import Pipeline\n",
    "from matplotlib import pyplot as plt\n",
    "%matplotlib inline\n",
    "\n",
    "# machine learning\n",
    "import sklearn.metrics as metrics\n",
    "from sklearn.linear_model import LogisticRegression\n",
    "from sklearn.svm import SVC, LinearSVC\n",
    "from sklearn.ensemble import RandomForestClassifier,GradientBoostingClassifier\n",
    "from sklearn.neighbors import KNeighborsClassifier\n",
    "from sklearn.naive_bayes import GaussianNB\n",
    "\n",
    "#from pandas_summary import DataFrameSummary\n",
    "from sklearn.ensemble import RandomForestClassifier, GradientBoostingClassifier\n",
    "from xgboost import XGBClassifier\n",
    "#from catboost import CatBoostClassifier, Pool, cv\n",
    "import lightgbm as lgb\n",
    "\n",
    "from sklearn.model_selection import train_test_split\n",
    "from sklearn.model_selection import cross_val_score\n",
    "\n",
    "#from pandas_ml import ConfusionMatrix\n",
    "from IPython.display import display\n",
    "\n",
    "from sklearn import metrics, preprocessing\n",
    "from datetime import datetime\n",
    "from dateutil.relativedelta import relativedelta\n",
    "import numpy as np\n",
    "\n",
    "import warnings\n",
    "warnings.filterwarnings('ignore')\n",
    "pd.set_option('mode.chained_assignment', None)"
   ]
  },
  {
   "cell_type": "code",
   "execution_count": 2,
   "metadata": {},
   "outputs": [
    {
     "data": {
      "text/html": [
       "<div>\n",
       "<style scoped>\n",
       "    .dataframe tbody tr th:only-of-type {\n",
       "        vertical-align: middle;\n",
       "    }\n",
       "\n",
       "    .dataframe tbody tr th {\n",
       "        vertical-align: top;\n",
       "    }\n",
       "\n",
       "    .dataframe thead th {\n",
       "        text-align: right;\n",
       "    }\n",
       "</style>\n",
       "<table border=\"1\" class=\"dataframe\">\n",
       "  <thead>\n",
       "    <tr style=\"text-align: right;\">\n",
       "      <th></th>\n",
       "      <th>session_id</th>\n",
       "      <th>startTime</th>\n",
       "      <th>endTime</th>\n",
       "      <th>ProductList</th>\n",
       "    </tr>\n",
       "  </thead>\n",
       "  <tbody>\n",
       "    <tr>\n",
       "      <th>0</th>\n",
       "      <td>u12112</td>\n",
       "      <td>08/12/14 13:36</td>\n",
       "      <td>08/12/14 13:36</td>\n",
       "      <td>A00002/B00003/C00006/D19956/</td>\n",
       "    </tr>\n",
       "    <tr>\n",
       "      <th>1</th>\n",
       "      <td>u19725</td>\n",
       "      <td>19/12/14 13:52</td>\n",
       "      <td>19/12/14 13:52</td>\n",
       "      <td>A00002/B00005/C00067/D02026/</td>\n",
       "    </tr>\n",
       "    <tr>\n",
       "      <th>2</th>\n",
       "      <td>u11795</td>\n",
       "      <td>01/12/14 10:44</td>\n",
       "      <td>01/12/14 10:44</td>\n",
       "      <td>A00002/B00002/C00004/D12538/</td>\n",
       "    </tr>\n",
       "    <tr>\n",
       "      <th>3</th>\n",
       "      <td>u22639</td>\n",
       "      <td>08/12/14 20:19</td>\n",
       "      <td>08/12/14 20:22</td>\n",
       "      <td>A00002/B00003/C00079/D22781/;A00002/B00003/C00...</td>\n",
       "    </tr>\n",
       "    <tr>\n",
       "      <th>4</th>\n",
       "      <td>u18034</td>\n",
       "      <td>15/12/14 19:33</td>\n",
       "      <td>15/12/14 19:33</td>\n",
       "      <td>A00002/B00001/C00010/D23419/</td>\n",
       "    </tr>\n",
       "  </tbody>\n",
       "</table>\n",
       "</div>"
      ],
      "text/plain": [
       "  session_id       startTime         endTime  \\\n",
       "0     u12112  08/12/14 13:36  08/12/14 13:36   \n",
       "1     u19725  19/12/14 13:52  19/12/14 13:52   \n",
       "2     u11795  01/12/14 10:44  01/12/14 10:44   \n",
       "3     u22639  08/12/14 20:19  08/12/14 20:22   \n",
       "4     u18034  15/12/14 19:33  15/12/14 19:33   \n",
       "\n",
       "                                         ProductList  \n",
       "0                       A00002/B00003/C00006/D19956/  \n",
       "1                       A00002/B00005/C00067/D02026/  \n",
       "2                       A00002/B00002/C00004/D12538/  \n",
       "3  A00002/B00003/C00079/D22781/;A00002/B00003/C00...  \n",
       "4                       A00002/B00001/C00010/D23419/  "
      ]
     },
     "execution_count": 2,
     "metadata": {},
     "output_type": "execute_result"
    }
   ],
   "source": [
    "ecom = pd.read_csv(\"C:/Users/lohitr/Desktop/train_ecommerce.csv\")\n",
    "ecom.head()\n",
    "###TEST Data#####\n",
    "ecom_test =pd.read_csv(\"C:/Users/lohitr/Desktop/test_ecommerce.csv\")\n",
    "ecom_test.head()"
   ]
  },
  {
   "cell_type": "code",
   "execution_count": 3,
   "metadata": {},
   "outputs": [
    {
     "data": {
      "text/plain": [
       "Index(['session_id', 'startTime', 'endTime', 'ProductList', 'gender'], dtype='object')"
      ]
     },
     "execution_count": 3,
     "metadata": {},
     "output_type": "execute_result"
    }
   ],
   "source": [
    "ecom.columns\n"
   ]
  },
  {
   "cell_type": "code",
   "execution_count": 4,
   "metadata": {},
   "outputs": [
    {
     "data": {
      "text/html": [
       "<div>\n",
       "<style scoped>\n",
       "    .dataframe tbody tr th:only-of-type {\n",
       "        vertical-align: middle;\n",
       "    }\n",
       "\n",
       "    .dataframe tbody tr th {\n",
       "        vertical-align: top;\n",
       "    }\n",
       "\n",
       "    .dataframe thead th {\n",
       "        text-align: right;\n",
       "    }\n",
       "</style>\n",
       "<table border=\"1\" class=\"dataframe\">\n",
       "  <thead>\n",
       "    <tr style=\"text-align: right;\">\n",
       "      <th></th>\n",
       "      <th>session_id</th>\n",
       "      <th>startTime</th>\n",
       "      <th>endTime</th>\n",
       "      <th>ProductList</th>\n",
       "      <th>gender</th>\n",
       "    </tr>\n",
       "  </thead>\n",
       "  <tbody>\n",
       "    <tr>\n",
       "      <th>0</th>\n",
       "      <td>u16159</td>\n",
       "      <td>15/12/14 18:11</td>\n",
       "      <td>15/12/14 18:12</td>\n",
       "      <td>A00002/B00003/C00006/D28435/;A00002/B00003/C00...</td>\n",
       "      <td>female</td>\n",
       "    </tr>\n",
       "    <tr>\n",
       "      <th>1</th>\n",
       "      <td>u10253</td>\n",
       "      <td>16/12/14 14:35</td>\n",
       "      <td>16/12/14 14:41</td>\n",
       "      <td>A00001/B00009/C00031/D29404/;A00001/B00009/C00...</td>\n",
       "      <td>male</td>\n",
       "    </tr>\n",
       "    <tr>\n",
       "      <th>2</th>\n",
       "      <td>u19037</td>\n",
       "      <td>01/12/14 15:58</td>\n",
       "      <td>01/12/14 15:58</td>\n",
       "      <td>A00002/B00001/C00020/D16944/</td>\n",
       "      <td>female</td>\n",
       "    </tr>\n",
       "    <tr>\n",
       "      <th>3</th>\n",
       "      <td>u14556</td>\n",
       "      <td>23/11/14 2:57</td>\n",
       "      <td>23/11/14 3:00</td>\n",
       "      <td>A00002/B00004/C00018/D10284/;A00002/B00004/C00...</td>\n",
       "      <td>female</td>\n",
       "    </tr>\n",
       "    <tr>\n",
       "      <th>4</th>\n",
       "      <td>u24295</td>\n",
       "      <td>17/12/14 16:44</td>\n",
       "      <td>17/12/14 16:46</td>\n",
       "      <td>A00001/B00001/C00012/D30805/;A00001/B00001/C00...</td>\n",
       "      <td>male</td>\n",
       "    </tr>\n",
       "  </tbody>\n",
       "</table>\n",
       "</div>"
      ],
      "text/plain": [
       "  session_id       startTime         endTime  \\\n",
       "0     u16159  15/12/14 18:11  15/12/14 18:12   \n",
       "1     u10253  16/12/14 14:35  16/12/14 14:41   \n",
       "2     u19037  01/12/14 15:58  01/12/14 15:58   \n",
       "3     u14556   23/11/14 2:57   23/11/14 3:00   \n",
       "4     u24295  17/12/14 16:44  17/12/14 16:46   \n",
       "\n",
       "                                         ProductList  gender  \n",
       "0  A00002/B00003/C00006/D28435/;A00002/B00003/C00...  female  \n",
       "1  A00001/B00009/C00031/D29404/;A00001/B00009/C00...    male  \n",
       "2                       A00002/B00001/C00020/D16944/  female  \n",
       "3  A00002/B00004/C00018/D10284/;A00002/B00004/C00...  female  \n",
       "4  A00001/B00001/C00012/D30805/;A00001/B00001/C00...    male  "
      ]
     },
     "execution_count": 4,
     "metadata": {},
     "output_type": "execute_result"
    }
   ],
   "source": [
    "ecom.head()"
   ]
  },
  {
   "cell_type": "code",
   "execution_count": 5,
   "metadata": {},
   "outputs": [
    {
     "data": {
      "text/html": [
       "<div>\n",
       "<style scoped>\n",
       "    .dataframe tbody tr th:only-of-type {\n",
       "        vertical-align: middle;\n",
       "    }\n",
       "\n",
       "    .dataframe tbody tr th {\n",
       "        vertical-align: top;\n",
       "    }\n",
       "\n",
       "    .dataframe thead th {\n",
       "        text-align: right;\n",
       "    }\n",
       "</style>\n",
       "<table border=\"1\" class=\"dataframe\">\n",
       "  <thead>\n",
       "    <tr style=\"text-align: right;\">\n",
       "      <th></th>\n",
       "      <th>session_id</th>\n",
       "      <th>startTime</th>\n",
       "      <th>endTime</th>\n",
       "      <th>ProductList</th>\n",
       "      <th>gender</th>\n",
       "    </tr>\n",
       "  </thead>\n",
       "  <tbody>\n",
       "    <tr>\n",
       "      <th>10495</th>\n",
       "      <td>u15442</td>\n",
       "      <td>18/11/14 7:39</td>\n",
       "      <td>18/11/14 7:42</td>\n",
       "      <td>A00002/B00002/C00007/D06407/;A00002/B00002/C00...</td>\n",
       "      <td>female</td>\n",
       "    </tr>\n",
       "    <tr>\n",
       "      <th>10496</th>\n",
       "      <td>u17986</td>\n",
       "      <td>25/11/14 15:16</td>\n",
       "      <td>25/11/14 15:16</td>\n",
       "      <td>A00006/B00030/C00334/D11660/</td>\n",
       "      <td>female</td>\n",
       "    </tr>\n",
       "    <tr>\n",
       "      <th>10497</th>\n",
       "      <td>u22508</td>\n",
       "      <td>09/12/14 10:11</td>\n",
       "      <td>09/12/14 10:11</td>\n",
       "      <td>A00002/B00002/C00007/D18028/</td>\n",
       "      <td>female</td>\n",
       "    </tr>\n",
       "    <tr>\n",
       "      <th>10498</th>\n",
       "      <td>u17087</td>\n",
       "      <td>22/11/14 11:27</td>\n",
       "      <td>22/11/14 11:27</td>\n",
       "      <td>A00003/B00012/C00131/D09453/;A00003/B00012/C00...</td>\n",
       "      <td>female</td>\n",
       "    </tr>\n",
       "    <tr>\n",
       "      <th>10499</th>\n",
       "      <td>u23137</td>\n",
       "      <td>19/12/14 3:11</td>\n",
       "      <td>19/12/14 3:19</td>\n",
       "      <td>A00002/B00001/C00010/D02309/;A00002/B00002/C00...</td>\n",
       "      <td>female</td>\n",
       "    </tr>\n",
       "  </tbody>\n",
       "</table>\n",
       "</div>"
      ],
      "text/plain": [
       "      session_id       startTime         endTime  \\\n",
       "10495     u15442   18/11/14 7:39   18/11/14 7:42   \n",
       "10496     u17986  25/11/14 15:16  25/11/14 15:16   \n",
       "10497     u22508  09/12/14 10:11  09/12/14 10:11   \n",
       "10498     u17087  22/11/14 11:27  22/11/14 11:27   \n",
       "10499     u23137   19/12/14 3:11   19/12/14 3:19   \n",
       "\n",
       "                                             ProductList  gender  \n",
       "10495  A00002/B00002/C00007/D06407/;A00002/B00002/C00...  female  \n",
       "10496                       A00006/B00030/C00334/D11660/  female  \n",
       "10497                       A00002/B00002/C00007/D18028/  female  \n",
       "10498  A00003/B00012/C00131/D09453/;A00003/B00012/C00...  female  \n",
       "10499  A00002/B00001/C00010/D02309/;A00002/B00002/C00...  female  "
      ]
     },
     "execution_count": 5,
     "metadata": {},
     "output_type": "execute_result"
    }
   ],
   "source": [
    "ecom.tail()"
   ]
  },
  {
   "cell_type": "code",
   "execution_count": 6,
   "metadata": {},
   "outputs": [
    {
     "data": {
      "text/plain": [
       "session_id     object\n",
       "startTime      object\n",
       "endTime        object\n",
       "ProductList    object\n",
       "gender         object\n",
       "dtype: object"
      ]
     },
     "execution_count": 6,
     "metadata": {},
     "output_type": "execute_result"
    }
   ],
   "source": [
    "ecom.dtypes"
   ]
  },
  {
   "cell_type": "code",
   "execution_count": 7,
   "metadata": {},
   "outputs": [
    {
     "data": {
      "text/plain": [
       "session_id     10500\n",
       "startTime      10500\n",
       "endTime        10500\n",
       "ProductList    10500\n",
       "gender         10500\n",
       "dtype: int64"
      ]
     },
     "execution_count": 7,
     "metadata": {},
     "output_type": "execute_result"
    }
   ],
   "source": [
    "ecom.count()"
   ]
  },
  {
   "cell_type": "code",
   "execution_count": 8,
   "metadata": {},
   "outputs": [
    {
     "data": {
      "text/html": [
       "<div>\n",
       "<style scoped>\n",
       "    .dataframe tbody tr th:only-of-type {\n",
       "        vertical-align: middle;\n",
       "    }\n",
       "\n",
       "    .dataframe tbody tr th {\n",
       "        vertical-align: top;\n",
       "    }\n",
       "\n",
       "    .dataframe thead th {\n",
       "        text-align: right;\n",
       "    }\n",
       "</style>\n",
       "<table border=\"1\" class=\"dataframe\">\n",
       "  <thead>\n",
       "    <tr style=\"text-align: right;\">\n",
       "      <th></th>\n",
       "      <th>session_id</th>\n",
       "      <th>startTime</th>\n",
       "      <th>endTime</th>\n",
       "      <th>ProductList</th>\n",
       "      <th>gender</th>\n",
       "    </tr>\n",
       "  </thead>\n",
       "  <tbody>\n",
       "    <tr>\n",
       "      <th>count</th>\n",
       "      <td>10500</td>\n",
       "      <td>10500</td>\n",
       "      <td>10500</td>\n",
       "      <td>10500</td>\n",
       "      <td>10500</td>\n",
       "    </tr>\n",
       "    <tr>\n",
       "      <th>unique</th>\n",
       "      <td>10500</td>\n",
       "      <td>8815</td>\n",
       "      <td>8803</td>\n",
       "      <td>9402</td>\n",
       "      <td>2</td>\n",
       "    </tr>\n",
       "    <tr>\n",
       "      <th>top</th>\n",
       "      <td>u21900</td>\n",
       "      <td>05/12/14 20:23</td>\n",
       "      <td>09/12/14 14:58</td>\n",
       "      <td>A00002/B00002/C00007/D00266/</td>\n",
       "      <td>female</td>\n",
       "    </tr>\n",
       "    <tr>\n",
       "      <th>freq</th>\n",
       "      <td>1</td>\n",
       "      <td>5</td>\n",
       "      <td>5</td>\n",
       "      <td>25</td>\n",
       "      <td>8192</td>\n",
       "    </tr>\n",
       "  </tbody>\n",
       "</table>\n",
       "</div>"
      ],
      "text/plain": [
       "       session_id       startTime         endTime  \\\n",
       "count       10500           10500           10500   \n",
       "unique      10500            8815            8803   \n",
       "top        u21900  05/12/14 20:23  09/12/14 14:58   \n",
       "freq            1               5               5   \n",
       "\n",
       "                         ProductList  gender  \n",
       "count                          10500   10500  \n",
       "unique                          9402       2  \n",
       "top     A00002/B00002/C00007/D00266/  female  \n",
       "freq                              25    8192  "
      ]
     },
     "execution_count": 8,
     "metadata": {},
     "output_type": "execute_result"
    }
   ],
   "source": [
    "ecom.describe()"
   ]
  },
  {
   "cell_type": "code",
   "execution_count": 9,
   "metadata": {},
   "outputs": [
    {
     "data": {
      "text/plain": [
       "array(['A00002/B00003/C00006/D28435/;A00002/B00003/C00006/D02554/;A00002/B00003/C00006/D28436/;A00002/B00003/C00006/D28437/',\n",
       "       'A00001/B00009/C00031/D29404/;A00001/B00009/C00031/D02617/;A00001/B00009/C00031/D29407/;A00001/B00009/C00031/D29410/;A00001/B00009/C00031/D29411/;A00001/B00009/C00031/D25444/;A00001/B00009/C00031/D29418/',\n",
       "       'A00002/B00001/C00020/D16944/', ...,\n",
       "       'A00006/B00030/C00334/D11660/',\n",
       "       'A00003/B00012/C00131/D09453/;A00003/B00012/C00073/D09454/',\n",
       "       'A00002/B00001/C00010/D02309/;A00002/B00002/C00002/D32450/;A00002/B00001/C00059/D21254/;A00003/B00004/C00089/D18619/'],\n",
       "      dtype=object)"
      ]
     },
     "execution_count": 9,
     "metadata": {},
     "output_type": "execute_result"
    }
   ],
   "source": [
    "ecom.ProductList.unique()"
   ]
  },
  {
   "cell_type": "code",
   "execution_count": 10,
   "metadata": {},
   "outputs": [
    {
     "name": "stdout",
     "output_type": "stream",
     "text": [
      "9402\n"
     ]
    }
   ],
   "source": [
    "print(ecom['ProductList'].value_counts().count())"
   ]
  },
  {
   "cell_type": "code",
   "execution_count": 12,
   "metadata": {},
   "outputs": [],
   "source": [
    "from sklearn.preprocessing import LabelEncoder, OneHotEncoder\n",
    "##################################TRAIN Data#####################\n",
    "labelencoder_X = LabelEncoder()\n",
    "ecom.iloc[ :,3]\n",
    "ecom.iloc[ :,3] = labelencoder_X.fit_transform(ecom.iloc[ :,3])\n",
    "\n",
    "\n",
    "##################################TEST Data#####################\n",
    "\n",
    "labelencoder_X = LabelEncoder()\n",
    "ecom_test.iloc[ :,3]\n",
    "ecom_test.iloc[ :,3] = labelencoder_X.fit_transform(ecom_test.iloc[ :,3])"
   ]
  },
  {
   "cell_type": "code",
   "execution_count": 13,
   "metadata": {
    "scrolled": true
   },
   "outputs": [
    {
     "data": {
      "text/html": [
       "<div>\n",
       "<style scoped>\n",
       "    .dataframe tbody tr th:only-of-type {\n",
       "        vertical-align: middle;\n",
       "    }\n",
       "\n",
       "    .dataframe tbody tr th {\n",
       "        vertical-align: top;\n",
       "    }\n",
       "\n",
       "    .dataframe thead th {\n",
       "        text-align: right;\n",
       "    }\n",
       "</style>\n",
       "<table border=\"1\" class=\"dataframe\">\n",
       "  <thead>\n",
       "    <tr style=\"text-align: right;\">\n",
       "      <th></th>\n",
       "      <th>session_id</th>\n",
       "      <th>startTime</th>\n",
       "      <th>endTime</th>\n",
       "      <th>ProductList</th>\n",
       "      <th>gender</th>\n",
       "      <th>Time</th>\n",
       "    </tr>\n",
       "  </thead>\n",
       "  <tbody>\n",
       "    <tr>\n",
       "      <th>0</th>\n",
       "      <td>u16159</td>\n",
       "      <td>2014-12-15 18:11:00</td>\n",
       "      <td>2014-12-15 18:12:00</td>\n",
       "      <td>4955</td>\n",
       "      <td>female</td>\n",
       "      <td>0</td>\n",
       "    </tr>\n",
       "    <tr>\n",
       "      <th>1</th>\n",
       "      <td>u10253</td>\n",
       "      <td>2014-12-16 14:35:00</td>\n",
       "      <td>2014-12-16 14:41:00</td>\n",
       "      <td>776</td>\n",
       "      <td>male</td>\n",
       "      <td>0</td>\n",
       "    </tr>\n",
       "    <tr>\n",
       "      <th>2</th>\n",
       "      <td>u19037</td>\n",
       "      <td>2014-01-12 15:58:00</td>\n",
       "      <td>2014-01-12 15:58:00</td>\n",
       "      <td>1670</td>\n",
       "      <td>female</td>\n",
       "      <td>0</td>\n",
       "    </tr>\n",
       "    <tr>\n",
       "      <th>3</th>\n",
       "      <td>u14556</td>\n",
       "      <td>2014-11-23 02:57:00</td>\n",
       "      <td>2014-11-23 03:00:00</td>\n",
       "      <td>5654</td>\n",
       "      <td>female</td>\n",
       "      <td>0</td>\n",
       "    </tr>\n",
       "    <tr>\n",
       "      <th>4</th>\n",
       "      <td>u24295</td>\n",
       "      <td>2014-12-17 16:44:00</td>\n",
       "      <td>2014-12-17 16:46:00</td>\n",
       "      <td>95</td>\n",
       "      <td>male</td>\n",
       "      <td>0</td>\n",
       "    </tr>\n",
       "    <tr>\n",
       "      <th>...</th>\n",
       "      <td>...</td>\n",
       "      <td>...</td>\n",
       "      <td>...</td>\n",
       "      <td>...</td>\n",
       "      <td>...</td>\n",
       "      <td>...</td>\n",
       "    </tr>\n",
       "    <tr>\n",
       "      <th>10495</th>\n",
       "      <td>u15442</td>\n",
       "      <td>2014-11-18 07:39:00</td>\n",
       "      <td>2014-11-18 07:42:00</td>\n",
       "      <td>3525</td>\n",
       "      <td>female</td>\n",
       "      <td>0</td>\n",
       "    </tr>\n",
       "    <tr>\n",
       "      <th>10496</th>\n",
       "      <td>u17986</td>\n",
       "      <td>2014-11-25 15:16:00</td>\n",
       "      <td>2014-11-25 15:16:00</td>\n",
       "      <td>9178</td>\n",
       "      <td>female</td>\n",
       "      <td>0</td>\n",
       "    </tr>\n",
       "    <tr>\n",
       "      <th>10497</th>\n",
       "      <td>u22508</td>\n",
       "      <td>2014-09-12 10:11:00</td>\n",
       "      <td>2014-09-12 10:11:00</td>\n",
       "      <td>3795</td>\n",
       "      <td>female</td>\n",
       "      <td>0</td>\n",
       "    </tr>\n",
       "    <tr>\n",
       "      <th>10498</th>\n",
       "      <td>u17087</td>\n",
       "      <td>2014-11-22 11:27:00</td>\n",
       "      <td>2014-11-22 11:27:00</td>\n",
       "      <td>8131</td>\n",
       "      <td>female</td>\n",
       "      <td>0</td>\n",
       "    </tr>\n",
       "    <tr>\n",
       "      <th>10499</th>\n",
       "      <td>u23137</td>\n",
       "      <td>2014-12-19 03:11:00</td>\n",
       "      <td>2014-12-19 03:19:00</td>\n",
       "      <td>1466</td>\n",
       "      <td>female</td>\n",
       "      <td>0</td>\n",
       "    </tr>\n",
       "  </tbody>\n",
       "</table>\n",
       "<p>10500 rows × 6 columns</p>\n",
       "</div>"
      ],
      "text/plain": [
       "      session_id           startTime             endTime  ProductList  gender  \\\n",
       "0         u16159 2014-12-15 18:11:00 2014-12-15 18:12:00         4955  female   \n",
       "1         u10253 2014-12-16 14:35:00 2014-12-16 14:41:00          776    male   \n",
       "2         u19037 2014-01-12 15:58:00 2014-01-12 15:58:00         1670  female   \n",
       "3         u14556 2014-11-23 02:57:00 2014-11-23 03:00:00         5654  female   \n",
       "4         u24295 2014-12-17 16:44:00 2014-12-17 16:46:00           95    male   \n",
       "...          ...                 ...                 ...          ...     ...   \n",
       "10495     u15442 2014-11-18 07:39:00 2014-11-18 07:42:00         3525  female   \n",
       "10496     u17986 2014-11-25 15:16:00 2014-11-25 15:16:00         9178  female   \n",
       "10497     u22508 2014-09-12 10:11:00 2014-09-12 10:11:00         3795  female   \n",
       "10498     u17087 2014-11-22 11:27:00 2014-11-22 11:27:00         8131  female   \n",
       "10499     u23137 2014-12-19 03:11:00 2014-12-19 03:19:00         1466  female   \n",
       "\n",
       "       Time  \n",
       "0         0  \n",
       "1         0  \n",
       "2         0  \n",
       "3         0  \n",
       "4         0  \n",
       "...     ...  \n",
       "10495     0  \n",
       "10496     0  \n",
       "10497     0  \n",
       "10498     0  \n",
       "10499     0  \n",
       "\n",
       "[10500 rows x 6 columns]"
      ]
     },
     "execution_count": 13,
     "metadata": {},
     "output_type": "execute_result"
    }
   ],
   "source": [
    "# First convert Date and Time columns to DateTime type\n",
    "##################################TRAIN Data#####################\n",
    "ecom['startTime'] = pd.to_datetime(ecom['startTime'])\n",
    "ecom['endTime'] = pd.to_datetime(ecom['endTime'])\n",
    "ecom['Time'] =ecom['startTime']-ecom['endTime']\n",
    "ecom['Time']=ecom.Time.dt.total_seconds()/3600\n",
    "ecom['Time'] =ecom['Time'].astype(str)\n",
    "ecom['Time']=ecom['Time'].str.replace('-','').astype(float)\n",
    "ecom['Time']=ecom['Time'].astype(int)\n",
    "\n",
    "\n",
    "##################################TEST Data#####################\n",
    "\n",
    "# First convert Date and Time columns to DateTime type\n",
    "ecom_test['startTime'] = pd.to_datetime(ecom_test['startTime'])\n",
    "ecom_test['endTime'] = pd.to_datetime(ecom_test['endTime'])\n",
    "ecom_test['Time'] =ecom_test['startTime']-ecom_test['endTime']\n",
    "ecom_test['Time']=ecom_test.Time.dt.total_seconds()/60\n",
    "ecom_test['Time'] =ecom_test['Time'].astype(str)\n",
    "ecom_test['Time']=ecom_test['Time'].str.replace('-','').astype(float)\n",
    "ecom_test['Time']=ecom_test['Time'].astype(int)\n",
    "#ecom_test\n",
    "ecom"
   ]
  },
  {
   "cell_type": "code",
   "execution_count": 14,
   "metadata": {},
   "outputs": [
    {
     "data": {
      "text/plain": [
       "2"
      ]
     },
     "execution_count": 14,
     "metadata": {},
     "output_type": "execute_result"
    }
   ],
   "source": [
    "ecom.gender.nunique()"
   ]
  },
  {
   "cell_type": "code",
   "execution_count": 15,
   "metadata": {},
   "outputs": [
    {
     "data": {
      "text/plain": [
       "female    8192\n",
       "male      2308\n",
       "Name: gender, dtype: int64"
      ]
     },
     "execution_count": 15,
     "metadata": {},
     "output_type": "execute_result"
    }
   ],
   "source": [
    "ecom.gender.value_counts()"
   ]
  },
  {
   "cell_type": "code",
   "execution_count": 16,
   "metadata": {},
   "outputs": [
    {
     "data": {
      "text/plain": [
       "0        female\n",
       "1          male\n",
       "2        female\n",
       "3        female\n",
       "4          male\n",
       "          ...  \n",
       "10495    female\n",
       "10496    female\n",
       "10497    female\n",
       "10498    female\n",
       "10499    female\n",
       "Name: gender, Length: 10500, dtype: category\n",
       "Categories (2, object): [female, male]"
      ]
     },
     "execution_count": 16,
     "metadata": {},
     "output_type": "execute_result"
    }
   ],
   "source": [
    "ecom.gender.astype('category')"
   ]
  },
  {
   "cell_type": "code",
   "execution_count": 17,
   "metadata": {},
   "outputs": [
    {
     "data": {
      "text/plain": [
       "session_id             object\n",
       "startTime      datetime64[ns]\n",
       "endTime        datetime64[ns]\n",
       "ProductList             int64\n",
       "gender                 object\n",
       "Time                    int32\n",
       "dtype: object"
      ]
     },
     "execution_count": 17,
     "metadata": {},
     "output_type": "execute_result"
    }
   ],
   "source": [
    "ecom.dtypes"
   ]
  },
  {
   "cell_type": "code",
   "execution_count": 18,
   "metadata": {},
   "outputs": [
    {
     "data": {
      "text/plain": [
       "0       10369\n",
       "1          21\n",
       "2          12\n",
       "5           4\n",
       "77          3\n",
       "        ...  \n",
       "3773        1\n",
       "8111        1\n",
       "21          1\n",
       "61          1\n",
       "3738        1\n",
       "Name: Time, Length: 89, dtype: int64"
      ]
     },
     "execution_count": 18,
     "metadata": {},
     "output_type": "execute_result"
    }
   ],
   "source": [
    "ecom.Time.value_counts()"
   ]
  },
  {
   "cell_type": "code",
   "execution_count": 19,
   "metadata": {},
   "outputs": [
    {
     "data": {
      "text/html": [
       "<div>\n",
       "<style scoped>\n",
       "    .dataframe tbody tr th:only-of-type {\n",
       "        vertical-align: middle;\n",
       "    }\n",
       "\n",
       "    .dataframe tbody tr th {\n",
       "        vertical-align: top;\n",
       "    }\n",
       "\n",
       "    .dataframe thead th {\n",
       "        text-align: right;\n",
       "    }\n",
       "</style>\n",
       "<table border=\"1\" class=\"dataframe\">\n",
       "  <thead>\n",
       "    <tr style=\"text-align: right;\">\n",
       "      <th></th>\n",
       "      <th></th>\n",
       "      <th></th>\n",
       "      <th></th>\n",
       "      <th>count</th>\n",
       "    </tr>\n",
       "    <tr>\n",
       "      <th>endTime</th>\n",
       "      <th>endTime</th>\n",
       "      <th>endTime</th>\n",
       "      <th>endTime</th>\n",
       "      <th></th>\n",
       "    </tr>\n",
       "  </thead>\n",
       "  <tbody>\n",
       "    <tr>\n",
       "      <th rowspan=\"5\" valign=\"top\">1</th>\n",
       "      <th rowspan=\"5\" valign=\"top\">2014-01-12</th>\n",
       "      <th rowspan=\"5\" valign=\"top\">12</th>\n",
       "      <th>0</th>\n",
       "      <td>4</td>\n",
       "    </tr>\n",
       "    <tr>\n",
       "      <th>1</th>\n",
       "      <td>4</td>\n",
       "    </tr>\n",
       "    <tr>\n",
       "      <th>2</th>\n",
       "      <td>5</td>\n",
       "    </tr>\n",
       "    <tr>\n",
       "      <th>3</th>\n",
       "      <td>10</td>\n",
       "    </tr>\n",
       "    <tr>\n",
       "      <th>4</th>\n",
       "      <td>4</td>\n",
       "    </tr>\n",
       "    <tr>\n",
       "      <th>...</th>\n",
       "      <th>...</th>\n",
       "      <th>...</th>\n",
       "      <th>...</th>\n",
       "      <td>...</td>\n",
       "    </tr>\n",
       "    <tr>\n",
       "      <th rowspan=\"5\" valign=\"top\">12</th>\n",
       "      <th rowspan=\"5\" valign=\"top\">2014-12-22</th>\n",
       "      <th rowspan=\"5\" valign=\"top\">22</th>\n",
       "      <th>55</th>\n",
       "      <td>7</td>\n",
       "    </tr>\n",
       "    <tr>\n",
       "      <th>56</th>\n",
       "      <td>6</td>\n",
       "    </tr>\n",
       "    <tr>\n",
       "      <th>57</th>\n",
       "      <td>6</td>\n",
       "    </tr>\n",
       "    <tr>\n",
       "      <th>58</th>\n",
       "      <td>8</td>\n",
       "    </tr>\n",
       "    <tr>\n",
       "      <th>59</th>\n",
       "      <td>9</td>\n",
       "    </tr>\n",
       "  </tbody>\n",
       "</table>\n",
       "<p>1958 rows × 1 columns</p>\n",
       "</div>"
      ],
      "text/plain": [
       "                                    count\n",
       "endTime endTime    endTime endTime       \n",
       "1       2014-01-12 12      0            4\n",
       "                           1            4\n",
       "                           2            5\n",
       "                           3           10\n",
       "                           4            4\n",
       "...                                   ...\n",
       "12      2014-12-22 22      55           7\n",
       "                           56           6\n",
       "                           57           6\n",
       "                           58           8\n",
       "                           59           9\n",
       "\n",
       "[1958 rows x 1 columns]"
      ]
     },
     "execution_count": 19,
     "metadata": {},
     "output_type": "execute_result"
    }
   ],
   "source": [
    "ecom['endTime'].groupby([ecom['endTime'].dt.month, ecom['endTime'].dt.date,ecom['endTime'].dt.day, ecom['endTime'].dt.minute]).agg({'count'})"
   ]
  },
  {
   "cell_type": "code",
   "execution_count": 20,
   "metadata": {},
   "outputs": [
    {
     "data": {
      "text/plain": [
       "(Timestamp('2014-01-12 00:07:00'), Timestamp('2014-12-22 23:54:00'))"
      ]
     },
     "execution_count": 20,
     "metadata": {},
     "output_type": "execute_result"
    }
   ],
   "source": [
    "min(ecom['startTime']), max(ecom['startTime'])"
   ]
  },
  {
   "cell_type": "code",
   "execution_count": 21,
   "metadata": {},
   "outputs": [
    {
     "data": {
      "text/plain": [
       "(Timestamp('2014-01-12 00:21:00'), Timestamp('2014-12-22 23:54:00'))"
      ]
     },
     "execution_count": 21,
     "metadata": {},
     "output_type": "execute_result"
    }
   ],
   "source": [
    "min(ecom['endTime']),max(ecom['endTime'])"
   ]
  },
  {
   "cell_type": "code",
   "execution_count": 22,
   "metadata": {},
   "outputs": [
    {
     "data": {
      "text/html": [
       "<div>\n",
       "<style scoped>\n",
       "    .dataframe tbody tr th:only-of-type {\n",
       "        vertical-align: middle;\n",
       "    }\n",
       "\n",
       "    .dataframe tbody tr th {\n",
       "        vertical-align: top;\n",
       "    }\n",
       "\n",
       "    .dataframe thead th {\n",
       "        text-align: right;\n",
       "    }\n",
       "</style>\n",
       "<table border=\"1\" class=\"dataframe\">\n",
       "  <thead>\n",
       "    <tr style=\"text-align: right;\">\n",
       "      <th></th>\n",
       "      <th>session_id</th>\n",
       "      <th>startTime</th>\n",
       "      <th>endTime</th>\n",
       "      <th>ProductList</th>\n",
       "      <th>gender</th>\n",
       "      <th>Time</th>\n",
       "    </tr>\n",
       "  </thead>\n",
       "  <tbody>\n",
       "    <tr>\n",
       "      <th>0</th>\n",
       "      <td>u16159</td>\n",
       "      <td>2014-12-15 18:11:00</td>\n",
       "      <td>2014-12-15 18:12:00</td>\n",
       "      <td>4955</td>\n",
       "      <td>female</td>\n",
       "      <td>0</td>\n",
       "    </tr>\n",
       "    <tr>\n",
       "      <th>1</th>\n",
       "      <td>u10253</td>\n",
       "      <td>2014-12-16 14:35:00</td>\n",
       "      <td>2014-12-16 14:41:00</td>\n",
       "      <td>776</td>\n",
       "      <td>male</td>\n",
       "      <td>0</td>\n",
       "    </tr>\n",
       "    <tr>\n",
       "      <th>2</th>\n",
       "      <td>u19037</td>\n",
       "      <td>2014-01-12 15:58:00</td>\n",
       "      <td>2014-01-12 15:58:00</td>\n",
       "      <td>1670</td>\n",
       "      <td>female</td>\n",
       "      <td>0</td>\n",
       "    </tr>\n",
       "    <tr>\n",
       "      <th>3</th>\n",
       "      <td>u14556</td>\n",
       "      <td>2014-11-23 02:57:00</td>\n",
       "      <td>2014-11-23 03:00:00</td>\n",
       "      <td>5654</td>\n",
       "      <td>female</td>\n",
       "      <td>0</td>\n",
       "    </tr>\n",
       "    <tr>\n",
       "      <th>4</th>\n",
       "      <td>u24295</td>\n",
       "      <td>2014-12-17 16:44:00</td>\n",
       "      <td>2014-12-17 16:46:00</td>\n",
       "      <td>95</td>\n",
       "      <td>male</td>\n",
       "      <td>0</td>\n",
       "    </tr>\n",
       "  </tbody>\n",
       "</table>\n",
       "</div>"
      ],
      "text/plain": [
       "  session_id           startTime             endTime  ProductList  gender  \\\n",
       "0     u16159 2014-12-15 18:11:00 2014-12-15 18:12:00         4955  female   \n",
       "1     u10253 2014-12-16 14:35:00 2014-12-16 14:41:00          776    male   \n",
       "2     u19037 2014-01-12 15:58:00 2014-01-12 15:58:00         1670  female   \n",
       "3     u14556 2014-11-23 02:57:00 2014-11-23 03:00:00         5654  female   \n",
       "4     u24295 2014-12-17 16:44:00 2014-12-17 16:46:00           95    male   \n",
       "\n",
       "   Time  \n",
       "0     0  \n",
       "1     0  \n",
       "2     0  \n",
       "3     0  \n",
       "4     0  "
      ]
     },
     "execution_count": 22,
     "metadata": {},
     "output_type": "execute_result"
    }
   ],
   "source": [
    "ecom.head()"
   ]
  },
  {
   "cell_type": "code",
   "execution_count": 29,
   "metadata": {},
   "outputs": [
    {
     "data": {
      "text/plain": [
       "<matplotlib.axes._subplots.AxesSubplot at 0x1f74b204160>"
      ]
     },
     "execution_count": 29,
     "metadata": {},
     "output_type": "execute_result"
    },
    {
     "data": {
      "image/png": "[encoded data removed]",
      "text/plain": [
       "<Figure size 432x288 with 1 Axes>"
      ]
     },
     "metadata": {
      "needs_background": "light"
     },
     "output_type": "display_data"
    }
   ],
   "source": [
    "\n",
    "#indexNames = ecom[ ecom['Time'] == 0 ].index\n",
    " \n",
    "# Delete these row indexes from dataFrame\n",
    "#ecom.drop(indexNames , inplace=True)\n",
    "#ecom\n",
    "\n",
    "# Countplot for 'Survived' variable\n",
    "sns.countplot(ecom['gender'])"
   ]
  },
  {
   "cell_type": "code",
   "execution_count": 30,
   "metadata": {},
   "outputs": [
    {
     "data": {
      "text/plain": [
       "<matplotlib.axes._subplots.AxesSubplot at 0x1f74b856198>"
      ]
     },
     "execution_count": 30,
     "metadata": {},
     "output_type": "execute_result"
    },
    {
     "data": {
      "image/png": "[encoded data removed]",
      "text/plain": [
       "<Figure size 432x288 with 1 Axes>"
      ]
     },
     "metadata": {
      "needs_background": "light"
     },
     "output_type": "display_data"
    }
   ],
   "source": [
    "# Excuse me, can we have a plot please?!\n",
    "sns.heatmap(ecom.isnull(), yticklabels = False, cbar = False, cmap = 'plasma')"
   ]
  },
  {
   "cell_type": "code",
   "execution_count": 31,
   "metadata": {},
   "outputs": [
    {
     "data": {
      "text/plain": [
       "<matplotlib.axes._subplots.AxesSubplot at 0x1f74b9e3390>"
      ]
     },
     "execution_count": 31,
     "metadata": {},
     "output_type": "execute_result"
    },
    {
     "data": {
      "image/png": "[encoded data removed]",
      "text/plain": [
       "<Figure size 432x288 with 1 Axes>"
      ]
     },
     "metadata": {
      "needs_background": "light"
     },
     "output_type": "display_data"
    }
   ],
   "source": [
    "sns.countplot(ecom['ProductList'])"
   ]
  },
  {
   "cell_type": "code",
   "execution_count": 32,
   "metadata": {},
   "outputs": [],
   "source": [
    "ecom_group=ecom['endTime'].groupby([ecom['endTime'].dt.month, ecom['endTime'].dt.date,ecom['endTime'].dt.day, ecom['endTime'].dt.minute]).agg({'count'})"
   ]
  },
  {
   "cell_type": "code",
   "execution_count": 33,
   "metadata": {},
   "outputs": [
    {
     "data": {
      "text/plain": [
       "array([[<matplotlib.axes._subplots.AxesSubplot object at 0x000001F75AA19A90>]],\n",
       "      dtype=object)"
      ]
     },
     "execution_count": 33,
     "metadata": {},
     "output_type": "execute_result"
    },
    {
     "data": {
      "image/png": "[encoded data removed]",
      "text/plain": [
       "<Figure size 432x288 with 1 Axes>"
      ]
     },
     "metadata": {
      "needs_background": "light"
     },
     "output_type": "display_data"
    }
   ],
   "source": [
    "ecom_group.hist(bins = 50, color = 'blue')"
   ]
  },
  {
   "cell_type": "code",
   "execution_count": 43,
   "metadata": {},
   "outputs": [
    {
     "data": {
      "text/html": [
       "<div>\n",
       "<style scoped>\n",
       "    .dataframe tbody tr th:only-of-type {\n",
       "        vertical-align: middle;\n",
       "    }\n",
       "\n",
       "    .dataframe tbody tr th {\n",
       "        vertical-align: top;\n",
       "    }\n",
       "\n",
       "    .dataframe thead tr th {\n",
       "        text-align: left;\n",
       "    }\n",
       "\n",
       "    .dataframe thead tr:last-of-type th {\n",
       "        text-align: right;\n",
       "    }\n",
       "</style>\n",
       "<table border=\"1\" class=\"dataframe\">\n",
       "  <thead>\n",
       "    <tr>\n",
       "      <th></th>\n",
       "      <th>session_id</th>\n",
       "      <th>startTime</th>\n",
       "      <th>endTime</th>\n",
       "      <th>gender</th>\n",
       "      <th>Time</th>\n",
       "    </tr>\n",
       "    <tr>\n",
       "      <th></th>\n",
       "      <th>count</th>\n",
       "      <th>count</th>\n",
       "      <th>count</th>\n",
       "      <th>count</th>\n",
       "      <th>count</th>\n",
       "    </tr>\n",
       "    <tr>\n",
       "      <th>ProductList</th>\n",
       "      <th></th>\n",
       "      <th></th>\n",
       "      <th></th>\n",
       "      <th></th>\n",
       "      <th></th>\n",
       "    </tr>\n",
       "  </thead>\n",
       "  <tbody>\n",
       "    <tr>\n",
       "      <th>0</th>\n",
       "      <td>1</td>\n",
       "      <td>1</td>\n",
       "      <td>1</td>\n",
       "      <td>1</td>\n",
       "      <td>1</td>\n",
       "    </tr>\n",
       "    <tr>\n",
       "      <th>1</th>\n",
       "      <td>1</td>\n",
       "      <td>1</td>\n",
       "      <td>1</td>\n",
       "      <td>1</td>\n",
       "      <td>1</td>\n",
       "    </tr>\n",
       "    <tr>\n",
       "      <th>2</th>\n",
       "      <td>1</td>\n",
       "      <td>1</td>\n",
       "      <td>1</td>\n",
       "      <td>1</td>\n",
       "      <td>1</td>\n",
       "    </tr>\n",
       "    <tr>\n",
       "      <th>3</th>\n",
       "      <td>1</td>\n",
       "      <td>1</td>\n",
       "      <td>1</td>\n",
       "      <td>1</td>\n",
       "      <td>1</td>\n",
       "    </tr>\n",
       "    <tr>\n",
       "      <th>4</th>\n",
       "      <td>1</td>\n",
       "      <td>1</td>\n",
       "      <td>1</td>\n",
       "      <td>1</td>\n",
       "      <td>1</td>\n",
       "    </tr>\n",
       "    <tr>\n",
       "      <th>...</th>\n",
       "      <td>...</td>\n",
       "      <td>...</td>\n",
       "      <td>...</td>\n",
       "      <td>...</td>\n",
       "      <td>...</td>\n",
       "    </tr>\n",
       "    <tr>\n",
       "      <th>9397</th>\n",
       "      <td>1</td>\n",
       "      <td>1</td>\n",
       "      <td>1</td>\n",
       "      <td>1</td>\n",
       "      <td>1</td>\n",
       "    </tr>\n",
       "    <tr>\n",
       "      <th>9398</th>\n",
       "      <td>1</td>\n",
       "      <td>1</td>\n",
       "      <td>1</td>\n",
       "      <td>1</td>\n",
       "      <td>1</td>\n",
       "    </tr>\n",
       "    <tr>\n",
       "      <th>9399</th>\n",
       "      <td>2</td>\n",
       "      <td>2</td>\n",
       "      <td>2</td>\n",
       "      <td>2</td>\n",
       "      <td>2</td>\n",
       "    </tr>\n",
       "    <tr>\n",
       "      <th>9400</th>\n",
       "      <td>1</td>\n",
       "      <td>1</td>\n",
       "      <td>1</td>\n",
       "      <td>1</td>\n",
       "      <td>1</td>\n",
       "    </tr>\n",
       "    <tr>\n",
       "      <th>9401</th>\n",
       "      <td>1</td>\n",
       "      <td>1</td>\n",
       "      <td>1</td>\n",
       "      <td>1</td>\n",
       "      <td>1</td>\n",
       "    </tr>\n",
       "  </tbody>\n",
       "</table>\n",
       "<p>9402 rows × 5 columns</p>\n",
       "</div>"
      ],
      "text/plain": [
       "            session_id startTime endTime gender  Time\n",
       "                 count     count   count  count count\n",
       "ProductList                                          \n",
       "0                    1         1       1      1     1\n",
       "1                    1         1       1      1     1\n",
       "2                    1         1       1      1     1\n",
       "3                    1         1       1      1     1\n",
       "4                    1         1       1      1     1\n",
       "...                ...       ...     ...    ...   ...\n",
       "9397                 1         1       1      1     1\n",
       "9398                 1         1       1      1     1\n",
       "9399                 2         2       2      2     2\n",
       "9400                 1         1       1      1     1\n",
       "9401                 1         1       1      1     1\n",
       "\n",
       "[9402 rows x 5 columns]"
      ]
     },
     "execution_count": 43,
     "metadata": {},
     "output_type": "execute_result"
    }
   ],
   "source": [
    "ecom.groupby('ProductList').agg({'count'})"
   ]
  },
  {
   "cell_type": "code",
   "execution_count": 60,
   "metadata": {},
   "outputs": [],
   "source": [
    "ecom_test.head()\n",
    "\n",
    "# define training and testing sets\n",
    "\n",
    "X_train = ecom[[\"ProductList\",\"Time\"]]\n",
    "Y_train = ecom[\"gender\"]\n",
    "X_test  = ecom_test[[\"ProductList\",\"Time\"]]\n",
    "Y_test =ecom[\"gender\"]"
   ]
  },
  {
   "cell_type": "code",
   "execution_count": 45,
   "metadata": {},
   "outputs": [
    {
     "data": {
      "text/plain": [
       "0.7804761904761904"
      ]
     },
     "execution_count": 45,
     "metadata": {},
     "output_type": "execute_result"
    }
   ],
   "source": [
    "\n",
    "logreg = LogisticRegression()\n",
    "\n",
    "logreg.fit(X_train, Y_train)\n",
    "\n",
    "Y_pred = logreg.predict(X_test)\n",
    "\n",
    "logreg.score(X_train, Y_train)"
   ]
  },
  {
   "cell_type": "code",
   "execution_count": 46,
   "metadata": {},
   "outputs": [
    {
     "data": {
      "text/plain": [
       "0.9346666666666666"
      ]
     },
     "execution_count": 46,
     "metadata": {},
     "output_type": "execute_result"
    }
   ],
   "source": [
    "#Support Vector Machines\n",
    "\n",
    "svc = SVC()\n",
    "\n",
    "svc.fit(X_train, Y_train)\n",
    "\n",
    "Y_pred = svc.predict(X_test)\n",
    "\n",
    "svc.score(X_train, Y_train)"
   ]
  },
  {
   "cell_type": "code",
   "execution_count": 71,
   "metadata": {},
   "outputs": [
    {
     "data": {
      "text/plain": [
       "1.0"
      ]
     },
     "execution_count": 71,
     "metadata": {},
     "output_type": "execute_result"
    }
   ],
   "source": [
    "# Gradient Boosts\n",
    "grad_boost = GradientBoostingClassifier(n_estimators=1000)\n",
    "grad_boost.fit(X_train, Y_train)\n",
    "Y_pred = grad_boost.predict(X_test)\n",
    "grad_boost.score(X_test, Y_pred)"
   ]
  },
  {
   "cell_type": "code",
   "execution_count": 73,
   "metadata": {
    "scrolled": true
   },
   "outputs": [
    {
     "data": {
      "text/plain": [
       "1.0"
      ]
     },
     "execution_count": 73,
     "metadata": {},
     "output_type": "execute_result"
    }
   ],
   "source": [
    "# Random Forests\n",
    "\n",
    "random_forest = RandomForestClassifier(n_estimators=500,oob_score=True)\n",
    "\n",
    "random_forest.fit(X_train, Y_train)\n",
    "\n",
    "Y_pred_rf = random_forest.predict(X_test)\n",
    "\n",
    "# Probabilities for each class\n",
    "rf_probs = random_forest.predict_proba(X_test)[:, 1]\n",
    "\n",
    "random_forest.score(X_test, Y_pred_rf)"
   ]
  },
  {
   "cell_type": "code",
   "execution_count": 78,
   "metadata": {
    "scrolled": true
   },
   "outputs": [],
   "source": []
  },
  {
   "cell_type": "code",
   "execution_count": 70,
   "metadata": {},
   "outputs": [],
   "source": [
    "submission = pd.DataFrame({\"session_id\":ecom_test[\"session_id\"],\"gender\": Y_pred_rf})\n",
    "submission.to_csv('C:/Users/lohitr/Desktop/sample_submission.csv', index=False)"
   ]
  },
  {
   "cell_type": "code",
   "execution_count": null,
   "metadata": {},
   "outputs": [],
   "source": []
  },
  {
   "cell_type": "code",
   "execution_count": null,
   "metadata": {},
   "outputs": [],
   "source": []
  },
  {
   "cell_type": "code",
   "execution_count": null,
   "metadata": {},
   "outputs": [],
   "source": []
  },
  {
   "cell_type": "code",
   "execution_count": null,
   "metadata": {},
   "outputs": [],
   "source": []
  },
  {
   "cell_type": "code",
   "execution_count": null,
   "metadata": {},
   "outputs": [],
   "source": []
  },
  {
   "cell_type": "code",
   "execution_count": null,
   "metadata": {},
   "outputs": [],
   "source": []
  }
 ],
 "metadata": {
  "kernelspec": {
   "display_name": "Python 3",
   "language": "python",
   "name": "python3"
  },
  "language_info": {
   "codemirror_mode": {
    "name": "ipython",
    "version": 3
   },
   "file_extension": ".py",
   "mimetype": "text/x-python",
   "name": "python",
   "nbconvert_exporter": "python",
   "pygments_lexer": "ipython3",
   "version": "3.7.0"
  }
 },
 "nbformat": 4,
 "nbformat_minor": 2
}
